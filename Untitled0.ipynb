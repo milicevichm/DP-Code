{
 "metadata": {
  "name": "",
  "signature": "sha256:fbaa8b3431cdd55a2a879f49448501ef6febcf0c76ddf38066fad531bb1defa4"
 },
 "nbformat": 3,
 "nbformat_minor": 0,
 "worksheets": [
  {
   "cells": [
    {
     "cell_type": "code",
     "collapsed": false,
     "input": [
      "from __future__ import print_function, division\n",
      "from nilmtk import HDFDataStore, DataSet\n",
      "from nilmtk.disaggregate import CombinatorialOptimisation\n",
      "import pandas as pd"
     ],
     "language": "python",
     "metadata": {},
     "outputs": [],
     "prompt_number": 2
    },
    {
     "cell_type": "code",
     "collapsed": false,
     "input": [
      "print (\"Loading Data...\")\n",
      "#declare and load HDF data (REDD)\n",
      "redd_datastore = HDFDataStore(\"C:/NILM/Data_Sets/redd_data.h5\")\n",
      "\n",
      "#declare dataset\n",
      "sample_dataset = DataSet()\n",
      "\n",
      "#load datastore into dataset\n",
      "sample_dataset.load(redd_datastore)\n",
      "\n",
      "print(\"Sucessfully loaded. \\n\")"
     ],
     "language": "python",
     "metadata": {},
     "outputs": [
      {
       "output_type": "stream",
       "stream": "stdout",
       "text": [
        "Loading Data...\n"
       ]
      },
      {
       "ename": "NameError",
       "evalue": "name 'HDFDataStore' is not defined",
       "output_type": "pyerr",
       "traceback": [
        "\u001b[1;31m---------------------------------------------------------------------------\u001b[0m\n\u001b[1;31mNameError\u001b[0m                                 Traceback (most recent call last)",
        "\u001b[1;32m<ipython-input-1-086ce96855c8>\u001b[0m in \u001b[0;36m<module>\u001b[1;34m()\u001b[0m\n\u001b[0;32m      1\u001b[0m \u001b[1;32mprint\u001b[0m \u001b[1;33m(\u001b[0m\u001b[1;34m\"Loading Data...\"\u001b[0m\u001b[1;33m)\u001b[0m\u001b[1;33m\u001b[0m\u001b[0m\n\u001b[0;32m      2\u001b[0m \u001b[1;31m#declare and load HDF data (REDD)\u001b[0m\u001b[1;33m\u001b[0m\u001b[1;33m\u001b[0m\u001b[0m\n\u001b[1;32m----> 3\u001b[1;33m \u001b[0mredd_datastore\u001b[0m \u001b[1;33m=\u001b[0m \u001b[0mHDFDataStore\u001b[0m\u001b[1;33m(\u001b[0m\u001b[1;34m\"C:/NILM/Data_Sets/redd_data.h5\"\u001b[0m\u001b[1;33m)\u001b[0m\u001b[1;33m\u001b[0m\u001b[0m\n\u001b[0m\u001b[0;32m      4\u001b[0m \u001b[1;33m\u001b[0m\u001b[0m\n\u001b[0;32m      5\u001b[0m \u001b[1;31m#declare dataset\u001b[0m\u001b[1;33m\u001b[0m\u001b[1;33m\u001b[0m\u001b[0m\n",
        "\u001b[1;31mNameError\u001b[0m: name 'HDFDataStore' is not defined"
       ]
      }
     ],
     "prompt_number": 1
    },
    {
     "cell_type": "code",
     "collapsed": false,
     "input": [
      "\n",
      "elec = sample_dataset.buildings[1].elec\n",
      "gs = elec.mains().good_sections(full_results=True)\n",
      "gs.combined()\n",
      "\n",
      "\n",
      "print (\"\\nTraining CO Model...\")\n",
      "\n",
      "co = CombinatorialOptimisation()\n",
      "co.train(elec)\n",
      "\n",
      "mains = elec.mains()\n",
      "output = HDFDataStore('C:/NILM/output.h5','w')"
     ],
     "language": "python",
     "metadata": {},
     "outputs": [
      {
       "output_type": "stream",
       "stream": "stdout",
       "text": [
        "\n",
        "Training CO Model...\n"
       ]
      },
      {
       "output_type": "stream",
       "stream": "stderr",
       "text": [
        "c:\\nilm\\nilmtk\\nilmtk\\metergroup.py:651: UserWarning: As a quick implementation we only get Good Sections from the first meter in the meter group.  We should really return the intersection of the good sections for all meters.  This will be fixed...\n",
        "  warn(\"As a quick implementation we only get Good Sections from\"\n"
       ]
      }
     ],
     "prompt_number": 6
    },
    {
     "cell_type": "code",
     "collapsed": false,
     "input": [
      "print(\"Disaggregation\")\n",
      "co.disaggregate(mains,output)\n",
      "\n",
      "output.store.get(\"/building1/elec/meter5\")[:10]\n",
      "\n",
      "disag_dataset = DataSet()\n",
      "disag_dataset.load(output)\n",
      "\n",
      "elec = disag_dataset.buildings[1].elec\n",
      "good_sections = elec.mains().good_sections()\n",
      "\n",
      "output.store.get('/building1/elec/meter5')[\"2011-05-01\":\"2011-05-01 12:00\"].plot()\n",
      "\n",
      "\n",
      "#close datastore object\n",
      "print(\"Program finished\")\n",
      "redd_datastore.close()\n",
      "output.close()"
     ],
     "language": "python",
     "metadata": {},
     "outputs": [
      {
       "output_type": "stream",
       "stream": "stdout",
       "text": [
        "Disaggregation\n",
        "Program finished"
       ]
      },
      {
       "output_type": "stream",
       "stream": "stdout",
       "text": [
        "\n"
       ]
      },
      {
       "output_type": "stream",
       "stream": "stderr",
       "text": [
        "c:\\nilm\\nilmtk\\nilmtk\\metergroup.py:54: RuntimeWarning: Building 1 has an empty 'appliances' list.\n",
        "  .format(building_id.instance), RuntimeWarning)\n"
       ]
      }
     ],
     "prompt_number": 7
    },
    {
     "cell_type": "code",
     "collapsed": false,
     "input": [],
     "language": "python",
     "metadata": {},
     "outputs": []
    }
   ],
   "metadata": {}
  }
 ]
}